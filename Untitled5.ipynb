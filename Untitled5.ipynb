{
 "cells": [
  {
   "cell_type": "code",
   "execution_count": null,
   "id": "64a79235",
   "metadata": {},
   "outputs": [],
   "source": [
    "Make a new Jupyter notebook named big_o_notation.ipynb\n",
    "\n",
    "Title your chart \"Big O Notation\"\n",
    "Label your x axis \"Elements\"\n",
    "Label your y axis \"Operations\"\n",
    "Label your curves or make a legend for the curves\n",
    "Use LaTex notation where possible"
   ]
  },
  {
   "cell_type": "code",
   "execution_count": null,
   "id": "c56cb291",
   "metadata": {},
   "outputs": [],
   "source": []
  },
  {
   "cell_type": "code",
   "execution_count": null,
   "id": "568a4961",
   "metadata": {},
   "outputs": [],
   "source": [
    "Curves to graph\n",
    "\n",
    "y=0n+1\n",
    " and label the curve \"O(1)\"\n",
    "y=log(n)\n",
    " and label the curve \"O(log n)\"\n",
    "y=n\n",
    " and label the curve \"O(n)\"\n",
    "y=n∗log(n)\n",
    " and label it \"O(n log n)\"\n",
    "y=n2\n",
    " and label it \"O(n^2)\"\n",
    "y=2n\n",
    " and label it \"O(2^n)\"\n",
    "y=n!\n",
    " and label it \"O(n!)\"\n",
    "y=nn\n",
    " and label it \"O(n^n)\"\n",
    "Bonus Write the code necessary to write your name on a chart. Use box letters.\n",
    "\n",
    "Bonus: use curves for letters in your name that have curves in them.\n"
   ]
  }
 ],
 "metadata": {
  "kernelspec": {
   "display_name": "Python 3 (ipykernel)",
   "language": "python",
   "name": "python3"
  },
  "language_info": {
   "codemirror_mode": {
    "name": "ipython",
    "version": 3
   },
   "file_extension": ".py",
   "mimetype": "text/x-python",
   "name": "python",
   "nbconvert_exporter": "python",
   "pygments_lexer": "ipython3",
   "version": "3.9.13"
  }
 },
 "nbformat": 4,
 "nbformat_minor": 5
}
