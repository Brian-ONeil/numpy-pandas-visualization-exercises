{
 "cells": [
  {
   "cell_type": "code",
   "execution_count": 36,
   "id": "a0ad3d04",
   "metadata": {},
   "outputs": [],
   "source": [
    "import numpy as np"
   ]
  },
  {
   "cell_type": "code",
   "execution_count": 16,
   "id": "550bf911",
   "metadata": {},
   "outputs": [],
   "source": [
    "my_array = np.array([4, 10, 12, 23, -2, -1, 0, 0, 0, -6, 3, -7])"
   ]
  },
  {
   "cell_type": "code",
   "execution_count": 43,
   "id": "5b8525a7",
   "metadata": {},
   "outputs": [],
   "source": [
    "a = np.array([4, 10, 12, 23, -2, -1, 0, 0, 0, -6, 3, -7])"
   ]
  },
  {
   "cell_type": "raw",
   "id": "019d6a1b",
   "metadata": {},
   "source": [
    "#### How many negative numbers are there?"
   ]
  },
  {
   "cell_type": "code",
   "execution_count": 28,
   "id": "a09d1102",
   "metadata": {
    "scrolled": true
   },
   "outputs": [
    {
     "data": {
      "text/plain": [
       "array([-2, -1, -6, -7])"
      ]
     },
     "execution_count": 28,
     "metadata": {},
     "output_type": "execute_result"
    }
   ],
   "source": [
    "my_array[my_array < 0]"
   ]
  },
  {
   "cell_type": "code",
   "execution_count": 44,
   "id": "7c11dc3a",
   "metadata": {},
   "outputs": [
    {
     "name": "stdout",
     "output_type": "stream",
     "text": [
      "Number of negative numbers: 2\n"
     ]
    }
   ],
   "source": [
    "num_negatives = len(my_array[my_array < 0])\n",
    "print(\"Number of negative numbers:\", num_negatives)"
   ]
  },
  {
   "cell_type": "raw",
   "id": "0fc4cd86",
   "metadata": {},
   "source": [
    "# How many positive numbers are there?"
   ]
  },
  {
   "cell_type": "code",
   "execution_count": 31,
   "id": "3cfe5c5c",
   "metadata": {},
   "outputs": [
    {
     "name": "stdout",
     "output_type": "stream",
     "text": [
      "4\n"
     ]
    }
   ],
   "source": [
    "num_positives = len(my_array[my_array < 0])\n",
    "print(num_positives)"
   ]
  },
  {
   "cell_type": "code",
   "execution_count": 45,
   "id": "323ced8f",
   "metadata": {},
   "outputs": [
    {
     "data": {
      "text/plain": [
       "5"
      ]
     },
     "execution_count": 45,
     "metadata": {},
     "output_type": "execute_result"
    }
   ],
   "source": [
    "len(a[a>0])"
   ]
  },
  {
   "cell_type": "raw",
   "id": "f043bbb6",
   "metadata": {},
   "source": [
    "#### How many even positive numbers are there?\n",
    "my_array = np.array([4, 10, 12, 23, -2, -1, 0, 0, 0, -6, 3, -7])"
   ]
  },
  {
   "cell_type": "code",
   "execution_count": 33,
   "id": "dfb1f56d",
   "metadata": {},
   "outputs": [
    {
     "name": "stdout",
     "output_type": "stream",
     "text": [
      "3\n"
     ]
    }
   ],
   "source": [
    "positive_nums = my_array[my_array > 0] # filter for positive numbers\n",
    "even_nums = positive_nums[positive_nums % 2 == 0] # filter for even numbers\n",
    "print(len(even_nums))"
   ]
  },
  {
   "cell_type": "code",
   "execution_count": 47,
   "id": "644487b4",
   "metadata": {},
   "outputs": [
    {
     "data": {
      "text/plain": [
       "3"
      ]
     },
     "execution_count": 47,
     "metadata": {},
     "output_type": "execute_result"
    }
   ],
   "source": [
    "pos_nums = a[a>0]\n",
    "len(pos_nums[pos_nums % 2 == 0])"
   ]
  },
  {
   "cell_type": "raw",
   "id": "e870ac96",
   "metadata": {},
   "source": [
    "#### If you were to add 3 to each data point, how many positive numbers would there be?\n",
    "\n",
    "Add 3 to the following array and show the positive numbers.\n",
    "my_array = np.array([4, 10, 12, 23, -2, -1, 0, 0, 0, -6, 3, -7])"
   ]
  },
  {
   "cell_type": "code",
   "execution_count": 34,
   "id": "6b150396",
   "metadata": {},
   "outputs": [
    {
     "name": "stdout",
     "output_type": "stream",
     "text": [
      "[ 7 13 15 26  1  2  3  3  3  6]\n"
     ]
    }
   ],
   "source": [
    "my_array = my_array + 3\n",
    "positive_nums = my_array[my_array > 0]\n",
    "print(positive_nums)"
   ]
  },
  {
   "cell_type": "raw",
   "id": "3193c5de",
   "metadata": {},
   "source": [
    "#### If you squared each number, what would the new mean and standard deviation be?\n",
    "Square root my_array in python numpy then find the new mean and standard deviation\n",
    "my_array = np.array([4, 10, 12, 23, -2, -1, 0, 0, 0, -6, 3, -7])"
   ]
  },
  {
   "cell_type": "code",
   "execution_count": null,
   "id": "665203fb",
   "metadata": {},
   "outputs": [],
   "source": [
    "np.sqrt(arr)"
   ]
  },
  {
   "cell_type": "code",
   "execution_count": 38,
   "id": "73174fde",
   "metadata": {
    "scrolled": true
   },
   "outputs": [
    {
     "name": "stdout",
     "output_type": "stream",
     "text": [
      "Square root of my_array: [2.64575131 3.60555128 3.87298335 5.09901951 1.         1.41421356\n",
      " 1.73205081 1.73205081 1.73205081        nan 2.44948974        nan]\n",
      "New mean: nan\n",
      "New standard deviation: nan\n"
     ]
    },
    {
     "name": "stderr",
     "output_type": "stream",
     "text": [
      "/var/folders/cq/k4_shrmd3jqcmhl3902xm04r0000gn/T/ipykernel_86088/952676804.py:1: RuntimeWarning: invalid value encountered in sqrt\n",
      "  sqrt_array = np.sqrt(my_array) # square root the array\n"
     ]
    }
   ],
   "source": [
    "sqrt_array = np.sqrt(my_array) # square root the array\n",
    "\n",
    "new_mean = np.mean(sqrt_array) # calculate the new mean\n",
    "\n",
    "new_std = np.std(sqrt_array) # calculate the new standard deviation\n",
    "\n",
    "print(\"Square root of my_array:\", sqrt_array)\n",
    "print(\"New mean:\", new_mean)\n",
    "print(\"New standard deviation:\", new_std) "
   ]
  },
  {
   "cell_type": "code",
   "execution_count": 48,
   "id": "54695e01",
   "metadata": {},
   "outputs": [
    {
     "data": {
      "text/plain": [
       "74.0"
      ]
     },
     "execution_count": 48,
     "metadata": {},
     "output_type": "execute_result"
    }
   ],
   "source": [
    "a_squared = a ** 2\n",
    "a_squared.mean()"
   ]
  },
  {
   "cell_type": "code",
   "execution_count": 49,
   "id": "65fec999",
   "metadata": {},
   "outputs": [
    {
     "data": {
      "text/plain": [
       "144.0243035046516"
      ]
     },
     "execution_count": 49,
     "metadata": {},
     "output_type": "execute_result"
    }
   ],
   "source": [
    "a_squared.std()"
   ]
  },
  {
   "cell_type": "raw",
   "id": "bbcaab44",
   "metadata": {},
   "source": [
    "#### A common statistical operation on a dataset is centering. This means to adjust the \n",
    "data such that the mean of the data is 0. This is done by subtracting the mean from each \n",
    "data point. Center the data set. See this link for more on centering.\n",
    "\n",
    "Using python numpy center the data set: \n",
    "my_array = np.array([4, 10, 12, 23, -2, -1, 0, 0, 0, -6, 3, -7])"
   ]
  },
  {
   "cell_type": "code",
   "execution_count": 39,
   "id": "dbc2691a",
   "metadata": {},
   "outputs": [
    {
     "name": "stdout",
     "output_type": "stream",
     "text": [
      "Original array: [ 7 13 15 26  1  2  3  3  3 -3  6 -4]\n",
      "Centered array: [  1.   7.   9.  20.  -5.  -4.  -3.  -3.  -3.  -9.   0. -10.]\n"
     ]
    }
   ],
   "source": [
    "mean = np.mean(my_array) # Calculate the mean of the array\n",
    "\n",
    "centered_array = my_array - mean # Subtract the mean from each element in the array\n",
    "\n",
    "print(\"Original array:\", my_array)\n",
    "print(\"Centered array:\", centered_array)"
   ]
  },
  {
   "cell_type": "code",
   "execution_count": 50,
   "id": "ceda9704",
   "metadata": {},
   "outputs": [],
   "source": [
    "centered_a = a - a.mean()"
   ]
  },
  {
   "cell_type": "code",
   "execution_count": 51,
   "id": "1a9ac40a",
   "metadata": {},
   "outputs": [
    {
     "data": {
      "text/plain": [
       "0.0"
      ]
     },
     "execution_count": 51,
     "metadata": {},
     "output_type": "execute_result"
    }
   ],
   "source": [
    "centered_a.mean()"
   ]
  },
  {
   "cell_type": "raw",
   "id": "23b5da7a",
   "metadata": {},
   "source": [
    "#### Calculate the z-score for each data point. z = x - mean / std dev\n",
    "Using python numpy, find the z-score for the following:\n",
    "my_array = np.array([4, 10, 12, 23, -2, -1, 0, 0, 0, -6, 3, -7])"
   ]
  },
  {
   "cell_type": "code",
   "execution_count": 42,
   "id": "cea3e3e1",
   "metadata": {},
   "outputs": [
    {
     "ename": "SyntaxError",
     "evalue": "invalid syntax (2162463767.py, line 7)",
     "output_type": "error",
     "traceback": [
      "\u001b[0;36m  Input \u001b[0;32mIn [42]\u001b[0;36m\u001b[0m\n\u001b[0;31m    where `x_i` is the i-th value in the array.\u001b[0m\n\u001b[0m          ^\u001b[0m\n\u001b[0;31mSyntaxError\u001b[0m\u001b[0;31m:\u001b[0m invalid syntax\n"
     ]
    }
   ],
   "source": [
    "mean = np.mean(my_array) # First, we need to calculate the mean and standard deviation of the array:\n",
    "std_dev = np.std(my_array)\n",
    "\n",
    "# The mean of `my_array` is `3.0` and the standard deviation is `8.06225774829855`.\n",
    "\n",
    "z = (x_i - mean) / std_dev\n",
    "\n",
    "\n",
    "z_scores = [(x - mean) / std_dev for x in my_array]\n",
    "print(z_scores)"
   ]
  },
  {
   "cell_type": "code",
   "execution_count": 52,
   "id": "8772ad94",
   "metadata": {},
   "outputs": [],
   "source": [
    "z_scores = centered_a / a.std()"
   ]
  },
  {
   "cell_type": "code",
   "execution_count": 53,
   "id": "fdecc782",
   "metadata": {},
   "outputs": [
    {
     "data": {
      "text/plain": [
       "array([ 0.12403473,  0.86824314,  1.11631261,  2.48069469, -0.62017367,\n",
       "       -0.49613894, -0.3721042 , -0.3721042 , -0.3721042 , -1.11631261,\n",
       "        0.        , -1.24034735])"
      ]
     },
     "execution_count": 53,
     "metadata": {},
     "output_type": "execute_result"
    }
   ],
   "source": [
    "z_scores"
   ]
  },
  {
   "cell_type": "code",
   "execution_count": null,
   "id": "7323ddca",
   "metadata": {},
   "outputs": [],
   "source": []
  }
 ],
 "metadata": {
  "kernelspec": {
   "display_name": "Python 3 (ipykernel)",
   "language": "python",
   "name": "python3"
  },
  "language_info": {
   "codemirror_mode": {
    "name": "ipython",
    "version": 3
   },
   "file_extension": ".py",
   "mimetype": "text/x-python",
   "name": "python",
   "nbconvert_exporter": "python",
   "pygments_lexer": "ipython3",
   "version": "3.9.13"
  }
 },
 "nbformat": 4,
 "nbformat_minor": 5
}
